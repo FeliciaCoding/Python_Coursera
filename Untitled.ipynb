{
 "cells": [
  {
   "cell_type": "code",
   "execution_count": null,
   "metadata": {},
   "outputs": [],
   "source": [
    "#1 Using input() to plause and read data for user\n",
    "nam = input ('Who are you?')\n",
    "print('Welcome', nam)\n",
    "x = int(98.6)\n",
    "print(x)\n",
    "\n",
    "    # calculating payment with 35 hours * 2.75per hours\n",
    "        # asking for data\n",
    "hrs=input('Enter Hours')\n",
    "rate=input('Enter the rate per hour')\n",
    "        # Formula\n",
    "            # f_hrs = float(hrs)\n",
    "            # f_rate = float(rate)\n",
    "            # pay = f_hrs * f_rate\n",
    "print('pay:', float(hrs)*float(rate))"
   ]
  },
  {
   "cell_type": "code",
   "execution_count": null,
   "metadata": {},
   "outputs": [],
   "source": []
  }
 ],
 "metadata": {
  "kernelspec": {
   "display_name": "Python 3",
   "language": "python",
   "name": "python3"
  },
  "language_info": {
   "codemirror_mode": {
    "name": "ipython",
    "version": 3
   },
   "file_extension": ".py",
   "mimetype": "text/x-python",
   "name": "python",
   "nbconvert_exporter": "python",
   "pygments_lexer": "ipython3",
   "version": "3.7.3"
  }
 },
 "nbformat": 4,
 "nbformat_minor": 2
}
